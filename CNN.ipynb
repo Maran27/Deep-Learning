{
 "cells":[
  {
   "cell_type":"code",
   "source":[
    "!pip install keras-tuner"
   ],
   "execution_count":null,
   "outputs":[
    {
     "name":"stdout",
     "text":[
      "Collecting keras-tuner\r\n",
      "  Downloading keras_tuner-1.0.4-py3-none-any.whl (97 kB)\r\n",
      "\u001b[?25l\r\u001b[K     |███▍                            | 10 kB 26.5 MB\/s eta 0:00:01\r\u001b[K     |██████▊                         | 20 kB 30.0 MB\/s eta 0:00:01\r\u001b[K     |██████████                      | 30 kB 33.0 MB\/s eta 0:00:01\r\u001b[K     |█████████████▍                  | 40 kB 36.0 MB\/s eta 0:00:01\r\u001b[K     |████████████████▊               | 51 kB 31.0 MB\/s eta 0:00:01\r\u001b[K     |████████████████████            | 61 kB 32.4 MB\/s eta 0:00:01\r\u001b[K     |███████████████████████▍        | 71 kB 28.7 MB\/s eta 0:00:01\r\u001b[K     |██████████████████████████▊     | 81 kB 31.0 MB\/s eta 0:00:01\r\u001b[K     |██████████████████████████████▏ | 92 kB 32.8 MB\/s eta 0:00:01\r\u001b[K     |████████████████████████████████| 97 kB 11.2 MB\/s \r\n",
      "\u001b[?25hRequirement already satisfied: tensorboard in \/opt\/python\/envs\/default\/lib\/python3.8\/site-packages (from keras-tuner) (2.6.0)\r\n",
      "Requirement already satisfied: scipy in \/opt\/python\/envs\/default\/lib\/python3.8\/site-packages (from keras-tuner) (1.6.1)\r\n",
      "Requirement already satisfied: ipython in \/opt\/python\/envs\/default\/lib\/python3.8\/site-packages (from keras-tuner) (7.26.0)\r\n",
      "Requirement already satisfied: packaging in \/opt\/python\/envs\/default\/lib\/python3.8\/site-packages (from keras-tuner) (21.0)\r\n",
      "Requirement already satisfied: numpy in \/opt\/python\/envs\/default\/lib\/python3.8\/site-packages (from keras-tuner) (1.19.5)\r\n",
      "Collecting kt-legacy\r\n",
      "  Downloading kt_legacy-1.0.4-py3-none-any.whl (9.6 kB)\r\n",
      "Requirement already satisfied: requests in \/opt\/python\/envs\/default\/lib\/python3.8\/site-packages (from keras-tuner) (2.25.1)\r\n",
      "Requirement already satisfied: backcall in \/opt\/python\/envs\/default\/lib\/python3.8\/site-packages (from ipython->keras-tuner) (0.2.0)\r\n",
      "Requirement already satisfied: decorator in \/opt\/python\/envs\/default\/lib\/python3.8\/site-packages (from ipython->keras-tuner) (5.0.9)\r\n",
      "Requirement already satisfied: pexpect>4.3 in \/opt\/python\/envs\/default\/lib\/python3.8\/site-packages (from ipython->keras-tuner) (4.8.0)\r\n",
      "Requirement already satisfied: jedi>=0.16 in \/opt\/python\/envs\/default\/lib\/python3.8\/site-packages (from ipython->keras-tuner) (0.17.2)\r\n",
      "Requirement already satisfied: pygments in \/opt\/python\/envs\/default\/lib\/python3.8\/site-packages (from ipython->keras-tuner) (2.10.0)\r\n",
      "Requirement already satisfied: setuptools>=18.5 in \/opt\/python\/envs\/default\/lib\/python3.8\/site-packages (from ipython->keras-tuner) (49.2.1)\r\n",
      "Requirement already satisfied: prompt-toolkit!=3.0.0,!=3.0.1,<3.1.0,>=2.0.0 in \/opt\/python\/envs\/default\/lib\/python3.8\/site-packages (from ipython->keras-tuner) (3.0.19)\r\n",
      "Requirement already satisfied: pickleshare in \/opt\/python\/envs\/default\/lib\/python3.8\/site-packages (from ipython->keras-tuner) (0.7.5)\r\n",
      "Requirement already satisfied: matplotlib-inline in \/opt\/python\/envs\/default\/lib\/python3.8\/site-packages (from ipython->keras-tuner) (0.1.2)\r\n",
      "Requirement already satisfied: traitlets>=4.2 in \/opt\/python\/envs\/default\/lib\/python3.8\/site-packages (from ipython->keras-tuner) (5.0.5)\r\n",
      "Requirement already satisfied: parso<0.8.0,>=0.7.0 in \/opt\/python\/envs\/default\/lib\/python3.8\/site-packages (from jedi>=0.16->ipython->keras-tuner) (0.7.1)\r\n",
      "Requirement already satisfied: ptyprocess>=0.5 in \/opt\/python\/envs\/default\/lib\/python3.8\/site-packages (from pexpect>4.3->ipython->keras-tuner) (0.7.0)\r\n",
      "Requirement already satisfied: wcwidth in \/opt\/python\/envs\/default\/lib\/python3.8\/site-packages (from prompt-toolkit!=3.0.0,!=3.0.1,<3.1.0,>=2.0.0->ipython->keras-tuner) (0.2.5)\r\n",
      "Requirement already satisfied: ipython-genutils in \/opt\/python\/envs\/default\/lib\/python3.8\/site-packages (from traitlets>=4.2->ipython->keras-tuner) (0.2.0)\r\n",
      "Requirement already satisfied: pyparsing>=2.0.2 in \/opt\/python\/envs\/default\/lib\/python3.8\/site-packages (from packaging->keras-tuner) (2.4.7)\r\n",
      "Requirement already satisfied: chardet<5,>=3.0.2 in \/opt\/python\/envs\/default\/lib\/python3.8\/site-packages (from requests->keras-tuner) (4.0.0)\r\n",
      "Requirement already satisfied: urllib3<1.27,>=1.21.1 in \/opt\/python\/envs\/default\/lib\/python3.8\/site-packages (from requests->keras-tuner) (1.26.6)\r\n",
      "Requirement already satisfied: idna<3,>=2.5 in \/opt\/python\/envs\/default\/lib\/python3.8\/site-packages (from requests->keras-tuner) (2.10)\r\n",
      "Requirement already satisfied: certifi>=2017.4.17 in \/opt\/python\/envs\/default\/lib\/python3.8\/site-packages (from requests->keras-tuner) (2021.5.30)\r\n",
      "Requirement already satisfied: wheel>=0.26 in \/opt\/python\/envs\/default\/lib\/python3.8\/site-packages (from tensorboard->keras-tuner) (0.37.0)\r\n",
      "Requirement already satisfied: werkzeug>=0.11.15 in \/opt\/python\/envs\/default\/lib\/python3.8\/site-packages (from tensorboard->keras-tuner) (2.0.1)\r\n",
      "Requirement already satisfied: grpcio>=1.24.3 in \/opt\/python\/envs\/default\/lib\/python3.8\/site-packages (from tensorboard->keras-tuner) (1.32.0)\r\n",
      "Requirement already satisfied: markdown>=2.6.8 in \/opt\/python\/envs\/default\/lib\/python3.8\/site-packages (from tensorboard->keras-tuner) (3.3.4)\r\n",
      "Requirement already satisfied: google-auth-oauthlib<0.5,>=0.4.1 in \/opt\/python\/envs\/default\/lib\/python3.8\/site-packages (from tensorboard->keras-tuner) (0.4.5)\r\n",
      "Requirement already satisfied: tensorboard-data-server<0.7.0,>=0.6.0 in \/opt\/python\/envs\/default\/lib\/python3.8\/site-packages (from tensorboard->keras-tuner) (0.6.1)\r\n",
      "Requirement already satisfied: absl-py>=0.4 in \/opt\/python\/envs\/default\/lib\/python3.8\/site-packages (from tensorboard->keras-tuner) (0.13.0)\r\n",
      "Requirement already satisfied: google-auth<2,>=1.6.3 in \/opt\/python\/envs\/default\/lib\/python3.8\/site-packages (from tensorboard->keras-tuner) (1.35.0)\r\n",
      "Requirement already satisfied: protobuf>=3.6.0 in \/opt\/python\/envs\/default\/lib\/python3.8\/site-packages (from tensorboard->keras-tuner) (3.15.6)\r\n",
      "Requirement already satisfied: tensorboard-plugin-wit>=1.6.0 in \/opt\/python\/envs\/default\/lib\/python3.8\/site-packages (from tensorboard->keras-tuner) (1.8.0)\r\n",
      "Requirement already satisfied: six in \/opt\/python\/envs\/default\/lib\/python3.8\/site-packages (from absl-py>=0.4->tensorboard->keras-tuner) (1.15.0)\r\n",
      "Requirement already satisfied: cachetools<5.0,>=2.0.0 in \/opt\/python\/envs\/default\/lib\/python3.8\/site-packages (from google-auth<2,>=1.6.3->tensorboard->keras-tuner) (4.2.2)\r\n",
      "Requirement already satisfied: pyasn1-modules>=0.2.1 in \/opt\/python\/envs\/default\/lib\/python3.8\/site-packages (from google-auth<2,>=1.6.3->tensorboard->keras-tuner) (0.2.8)\r\n",
      "Requirement already satisfied: rsa<5,>=3.1.4 in \/opt\/python\/envs\/default\/lib\/python3.8\/site-packages (from google-auth<2,>=1.6.3->tensorboard->keras-tuner) (4.7.2)\r\n",
      "Requirement already satisfied: requests-oauthlib>=0.7.0 in \/opt\/python\/envs\/default\/lib\/python3.8\/site-packages (from google-auth-oauthlib<0.5,>=0.4.1->tensorboard->keras-tuner) (1.3.0)\r\n",
      "Requirement already satisfied: pyasn1<0.5.0,>=0.4.6 in \/opt\/python\/envs\/default\/lib\/python3.8\/site-packages (from pyasn1-modules>=0.2.1->google-auth<2,>=1.6.3->tensorboard->keras-tuner) (0.4.8)\r\n",
      "Requirement already satisfied: oauthlib>=3.0.0 in \/opt\/python\/envs\/default\/lib\/python3.8\/site-packages (from requests-oauthlib>=0.7.0->google-auth-oauthlib<0.5,>=0.4.1->tensorboard->keras-tuner) (3.1.1)\r\n",
      "Installing collected packages: kt-legacy, keras-tuner\r\n",
      "Successfully installed keras-tuner-1.0.4 kt-legacy-1.0.4\r\n",
      "\u001b[33mWARNING: You are using pip version 21.1; however, version 21.2.4 is available.\r\n",
      "You should consider upgrading via the '\/opt\/python\/envs\/default\/bin\/python -m pip install --upgrade pip' command.\u001b[0m\r\n"
     ],
     "output_type":"stream"
    }
   ],
   "metadata":{
    "datalore":{
     "node_id":"fcMCdrdGKK9tphfRf3KuIK",
     "type":"CODE",
     "hide_input_from_viewers":true,
     "hide_output_from_viewers":true
    }
   }
  },
  {
   "cell_type":"code",
   "source":[
    "import tensorflow as tf\n",
    "from tensorflow import keras\n",
    "import numpy as np"
   ],
   "execution_count":null,
   "outputs":[
    
   ],
   "metadata":{
    "datalore":{
     "node_id":"84Swidyk0aPhkzyZX0mmOt",
     "type":"CODE",
     "hide_input_from_viewers":true,
     "hide_output_from_viewers":true
    }
   }
  },
  {
   "cell_type":"code",
   "source":[
    "dataset = keras.datasets.fashion_mnist"
   ],
   "execution_count":null,
   "outputs":[
    
   ],
   "metadata":{
    "datalore":{
     "node_id":"wtbp81CxJfGc3QizNv6INg",
     "type":"CODE",
     "hide_input_from_viewers":true,
     "hide_output_from_viewers":true
    }
   }
  },
  {
   "cell_type":"code",
   "source":[
    "(train_images, train_label), (test_images, test_labels) = dataset.load_data()"
   ],
   "execution_count":null,
   "outputs":[
    {
     "name":"stdout",
     "text":[
      "Downloading data from https:\/\/storage.googleapis.com\/tensorflow\/tf-keras-datasets\/train-labels-idx1-ubyte.gz\n",
      "\r 8192\/29515 [=======>......................] - ETA: 0s\b\b\b\b\b\b\b\b\b\b\b\b\b\b\b\b\b\b\b\b\b\b\b\b\b\b\b\b\b\b\b\b\b\b\b\b\b\b\b\b\b\b\b\b\b\b\b\b\b\b\b\b\b\b\r32768\/29515 [=================================] - 0s 0us\/step\n",
      "Downloading data from https:\/\/storage.googleapis.com\/tensorflow\/tf-keras-datasets\/train-images-idx3-ubyte.gz\n",
      "\r    8192\/26421880 [..............................] - ETA: 0s\b\b\b\b\b\b\b\b\b\b\b\b\b\b\b\b\b\b\b\b\b\b\b\b\b\b\b\b\b\b\b\b\b\b\b\b\b\b\b\b\b\b\b\b\b\b\b\b\b\b\b\b\b\b\b\b\b\b\b\b\r 3833856\/26421880 [===>..........................] - ETA: 0s\b\b\b\b\b\b\b\b\b\b\b\b\b\b\b\b\b\b\b\b\b\b\b\b\b\b\b\b\b\b\b\b\b\b\b\b\b\b\b\b\b\b\b\b\b\b\b\b\b\b\b\b\b\b\b\b\b\b\b\b\r 5742592\/26421880 [=====>........................] - ETA: 0s\b\b\b\b\b\b\b\b\b\b\b\b\b\b\b\b\b\b\b\b\b\b\b\b\b\b\b\b\b\b\b\b\b\b\b\b\b\b\b\b\b\b\b\b\b\b\b\b\b\b\b\b\b\b\b\b\b\b\b\b\r11157504\/26421880 [===========>..................] - ETA: 0s\b\b\b\b\b\b\b\b\b\b\b\b\b\b\b\b\b\b\b\b\b\b\b\b\b\b\b\b\b\b\b\b\b\b\b\b\b\b\b\b\b\b\b\b\b\b\b\b\b\b\b\b\b\b\b\b\b\b\b\b\r18128896\/26421880 [===================>..........] - ETA: 0s\b\b\b\b\b\b\b\b\b\b\b\b\b\b\b\b\b\b\b\b\b\b\b\b\b\b\b\b\b\b\b\b\b\b\b\b\b\b\b\b\b\b\b\b\b\b\b\b\b\b\b\b\b\b\b\b\b\b\b\b\r24182784\/26421880 [==========================>...] - ETA: 0s\b\b\b\b\b\b\b\b\b\b\b\b\b\b\b\b\b\b\b\b\b\b\b\b\b\b\b\b\b\b\b\b\b\b\b\b\b\b\b\b\b\b\b\b\b\b\b\b\b\b\b\b\b\b\b\b\b\b\b\b\r26427392\/26421880 [==============================] - 0s 0us\/step\n",
      "Downloading data from https:\/\/storage.googleapis.com\/tensorflow\/tf-keras-datasets\/t10k-labels-idx1-ubyte.gz\n",
      "\r8192\/5148 [===============================================] - 0s 0us\/step\n",
      "Downloading data from https:\/\/storage.googleapis.com\/tensorflow\/tf-keras-datasets\/t10k-images-idx3-ubyte.gz\n",
      "\r   8192\/4422102 [..............................] - ETA: 0s\b\b\b\b\b\b\b\b\b\b\b\b\b\b\b\b\b\b\b\b\b\b\b\b\b\b\b\b\b\b\b\b\b\b\b\b\b\b\b\b\b\b\b\b\b\b\b\b\b\b\b\b\b\b\b\b\b\b\r 679936\/4422102 [===>..........................] - ETA: 1s\b\b\b\b\b\b\b\b\b\b\b\b\b\b\b\b\b\b\b\b\b\b\b\b\b\b\b\b\b\b\b\b\b\b\b\b\b\b\b\b\b\b\b\b\b\b\b\b\b\b\b\b\b\b\b\b\b\b\r4423680\/4422102 [==============================] - 0s 0us\/step\n"
     ],
     "output_type":"stream"
    }
   ],
   "metadata":{
    "datalore":{
     "node_id":"3bsDJr2ELcqlqZckxwWG5V",
     "type":"CODE",
     "hide_input_from_viewers":true,
     "hide_output_from_viewers":true
    }
   }
  },
  {
   "cell_type":"code",
   "source":[
    "train_images = train_images\/255.0\n",
    "test_images = test_images\/255.0"
   ],
   "execution_count":null,
   "outputs":[
    
   ],
   "metadata":{
    "datalore":{
     "node_id":"Mjjl5R5PFXZAs1wD4Sn8uo",
     "type":"CODE",
     "hide_input_from_viewers":true,
     "hide_output_from_viewers":true
    }
   }
  },
  {
   "cell_type":"code",
   "source":[
    "train_images[0].shape"
   ],
   "execution_count":null,
   "outputs":[
    {
     "data":{
      "text\/plain":[
       "(28, 28)"
      ]
     },
     "metadata":{
      
     },
     "output_type":"display_data"
    }
   ],
   "metadata":{
    "datalore":{
     "node_id":"CE5LhIxmu4aIr2g1pd8QaC",
     "type":"CODE",
     "hide_input_from_viewers":true,
     "hide_output_from_viewers":true
    }
   }
  },
  {
   "cell_type":"code",
   "source":[
    "train_images=train_images.reshape(len(train_images), 28, 28, 1)\n",
    "test_images=test_images.reshape(len(test_images), 28, 28, 1)"
   ],
   "execution_count":null,
   "outputs":[
    
   ],
   "metadata":{
    "datalore":{
     "node_id":"QXB0jMIk2ad2fmuJprTyLE",
     "type":"CODE",
     "hide_input_from_viewers":true,
     "hide_output_from_viewers":true
    }
   }
  },
  {
   "cell_type":"code",
   "source":[
    "def build_model(hp):\n",
    "  model = keras.Sequential([\n",
    "                            keras.layers.Conv2D(filters=hp.Int('conv_1_filter', min_value=64, max_value=128, step=16),\n",
    "                                                kernel_size=hp.Choice('conv_1_kernel', values=[3,5]),\n",
    "                                                activation='relu',\n",
    "                                                input_shape=(28,28, 1)),\n",
    "                            keras.layers.Conv2D(filters=hp.Int('conv_2_filter', min_value=32, max_value=64, step=16),\n",
    "                                                kernel_size=hp.Choice('conv_2_kernel', values=[3,5]),\n",
    "                                                activation='relu'),\n",
    "                            keras.layers.Flatten(),\n",
    "                            keras.layers.Dense(units=hp.Int('dense_1_units', min_value=32, max_value=128, step=16),\n",
    "                                               activation='relu'),\n",
    "                            keras.layers.Dense(10, activation='softmax')\n",
    "  ])\n",
    "  model.compile(optimizer=keras.optimizers.Adam(hp.Choice('learning_rate', values=[1e-2, 1e-3])),\n",
    "                loss='sparse_categorical_crossentropy',\n",
    "                metrics=['accuracy'])\n",
    "  return model"
   ],
   "execution_count":null,
   "outputs":[
    
   ],
   "metadata":{
    "datalore":{
     "node_id":"bpRReDjcDjBIaIfvyUqjQ8",
     "type":"CODE",
     "hide_input_from_viewers":true,
     "hide_output_from_viewers":true
    }
   }
  },
  {
   "cell_type":"code",
   "source":[
    "from keras_tuner import RandomSearch\n",
    "from keras_tuner.engine.hyperparameters  import HyperParameters"
   ],
   "execution_count":null,
   "outputs":[
    
   ],
   "metadata":{
    "datalore":{
     "node_id":"hpgUI6wh6so2gBbO1tqAcU",
     "type":"CODE",
     "hide_input_from_viewers":true,
     "hide_output_from_viewers":true
    }
   }
  },
  {
   "cell_type":"code",
   "source":[
    "tuner_search = RandomSearch(build_model, objective='val_accuracy', max_trials=2, directory='output', project_name='Mnist_fashion')"
   ],
   "execution_count":null,
   "outputs":[
    
   ],
   "metadata":{
    "datalore":{
     "node_id":"4hqybMUWw2KKF2uTm8S0KA",
     "type":"CODE",
     "hide_input_from_viewers":true,
     "hide_output_from_viewers":true
    }
   }
  },
  {
   "cell_type":"code",
   "source":[
    "# tuner_search.search(train_images, train_label, epochs=2, validation_split=0.1)"
   ],
   "execution_count":null,
   "outputs":[
    
   ],
   "metadata":{
    "datalore":{
     "node_id":"Ww1cQsNiemRyDpUygjNSva",
     "type":"CODE",
     "hide_input_from_viewers":true,
     "hide_output_from_viewers":true
    }
   }
  },
  {
   "cell_type":"code",
   "source":[
    
   ],
   "execution_count":null,
   "outputs":[
    
   ],
   "metadata":{
    "datalore":{
     "node_id":"Y0aiiOC76oP3TmMogTPA2a",
     "type":"CODE",
     "hide_input_from_viewers":true,
     "hide_output_from_viewers":true
    }
   }
  }
 ],
 "metadata":{
  "kernelspec":{
   "display_name":"Python",
   "language":"python",
   "name":"python"
  },
  "datalore":{
   "computation_mode":"JUPYTER",
   "package_manager":"pip",
   "base_environment":"default",
   "packages":[
    
   ],
   "report_row_ids":[
    
   ],
   "version":3
  }
 },
 "nbformat":4,
 "nbformat_minor":4
}